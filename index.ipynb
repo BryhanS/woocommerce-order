{
 "cells": [
  {
   "cell_type": "code",
   "execution_count": 1,
   "metadata": {},
   "outputs": [],
   "source": [
    "from dotenv import load_dotenv  \n",
    "import pandas as pd\n",
    "from woocommerce import API\n",
    "import os"
   ]
  },
  {
   "cell_type": "code",
   "execution_count": 6,
   "metadata": {},
   "outputs": [],
   "source": [
    "load_dotenv()\n",
    "url = os.getenv(\"URL\")\n",
    "consumer_key = os.getenv(\"CONSUMER_KEY\")\n",
    "conumer_secret = os.getenv(\"CONSUMER_SECRET\")\n"
   ]
  },
  {
   "cell_type": "code",
   "execution_count": 7,
   "metadata": {},
   "outputs": [],
   "source": [
    "wcapi = API(\n",
    "    url=url,\n",
    "    consumer_key=consumer_key,\n",
    "    consumer_secret=consumer_key,\n",
    "    wp_api=True,\n",
    "    version=\"wc/v3\"\n",
    ")"
   ]
  },
  {
   "cell_type": "code",
   "execution_count": null,
   "metadata": {},
   "outputs": [],
   "source": [
    "datos = wcapi.get(\"orders?per_page=50\").json()\n"
   ]
  },
  {
   "cell_type": "code",
   "execution_count": null,
   "metadata": {},
   "outputs": [],
   "source": [
    "# row = []\n",
    "\n",
    "# for items in datos:\n",
    "\n",
    "#     if items['status'] != \"on-hold\":\n",
    "#         continue\n",
    "\n",
    "#     id = items['id']\n",
    "#     nombre_completo = items['billing']['first_name'] + \" \" + items['billing']['last_name']\n",
    "#     address = items['billing']['address_1']\n",
    "#     distrito = items['billing']['distrito']\n",
    "#     provincia = items['billing']['provincia'] \n",
    "#     departamento = items['billing']['departamento']\n",
    "#     monto = items['total']\n",
    "#     phone = items['billing']['phone']\n",
    "\n",
    "    \n",
    "#     row.append([id,nombre_completo,address,distrito,provincia,departamento,monto,phone])\n",
    "\n",
    "\n",
    "\n",
    "\n",
    "\n",
    "\n"
   ]
  },
  {
   "cell_type": "code",
   "execution_count": null,
   "metadata": {},
   "outputs": [],
   "source": [
    "row = []\n",
    "\n",
    "for items in datos:\n",
    "\n",
    "    if items['status'] != \"processing\":\n",
    "        continue\n",
    "\n",
    "    id = items['id']\n",
    "    status = items['status']\n",
    "    registro = items['date_created'].split('T')[0]\n",
    "    nombre_completo = items['billing']['first_name'] + \" \" + items['billing']['last_name']\n",
    "    address = items['billing']['address_1']\n",
    "    distrito = items['billing']['distrito']\n",
    "    provincia = items['billing']['provincia'] \n",
    "    departamento = items['billing']['departamento']\n",
    "    monto = items['total']\n",
    "    phone = items['billing']['phone']\n",
    "    sku = items['line_items'][0]['sku']\n",
    "\n",
    "\n",
    "    \n",
    "    row.append([id,status,registro,'-', nombre_completo,'-','-','-','-',address,'-',sku,distrito,provincia,departamento,monto,phone[-9:]])"
   ]
  },
  {
   "cell_type": "code",
   "execution_count": null,
   "metadata": {},
   "outputs": [],
   "source": [
    "df = pd.DataFrame(row)\n",
    "df = df.sort_values(by=0, ascending=True)"
   ]
  },
  {
   "cell_type": "code",
   "execution_count": null,
   "metadata": {},
   "outputs": [],
   "source": [
    "if os.path.exists('reporte.csv'):\n",
    "    os.remove('reporte.csv')\n",
    "    df.to_csv('reporte.csv', sep=',', index=False, encoding='utf-8-sig')\n",
    "\n",
    "else:\n",
    "    df.to_csv('reporte.csv', sep=',', index=False, encoding='utf-8-sig')\n",
    "\n",
    "    \n"
   ]
  }
 ],
 "metadata": {
  "kernelspec": {
   "display_name": "venv",
   "language": "python",
   "name": "python3"
  },
  "language_info": {
   "codemirror_mode": {
    "name": "ipython",
    "version": 3
   },
   "file_extension": ".py",
   "mimetype": "text/x-python",
   "name": "python",
   "nbconvert_exporter": "python",
   "pygments_lexer": "ipython3",
   "version": "3.9.6"
  }
 },
 "nbformat": 4,
 "nbformat_minor": 2
}
